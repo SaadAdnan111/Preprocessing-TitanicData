{
 "cells": [
  {
   "cell_type": "code",
   "execution_count": 3,
   "id": "dd3fa82b-d8d3-4b31-9799-f4946740fcac",
   "metadata": {},
   "outputs": [],
   "source": [
    "import pandas as pd\n",
    "import numpy as np\n",
    "\n",
    "# Read dataset ..\n",
    "df = pd.read_csv(\"D:\\DataScience with Python\\Datasets\\Titanic-Dataset.csv\")\n"
   ]
  },
  {
   "cell_type": "code",
   "execution_count": 2,
   "id": "d8265211-81db-4ef7-939d-87c5af090f56",
   "metadata": {},
   "outputs": [
    {
     "name": "stdout",
     "output_type": "stream",
     "text": [
      "(891, 12)\n"
     ]
    }
   ],
   "source": [
    "# Getting basic information about the dataset ..\n",
    "\n",
    "print(df.shape)\n",
    "#print(df.isnull().sum())\n",
    "#print(df.dtypes)\n",
    "#print(df.head)\n"
   ]
  },
  {
   "cell_type": "code",
   "execution_count": 28,
   "id": "d9e60836-c9d8-4aec-9f47-e22c40398e72",
   "metadata": {},
   "outputs": [],
   "source": [
    "# Dropping not so useful columns ..\n",
    "df = df.drop(columns = [\"Ticket\", \"Fare\", \"Cabin\"])"
   ]
  },
  {
   "cell_type": "code",
   "execution_count": 29,
   "id": "2b405793-6b26-43e6-ad84-d5dd874932e1",
   "metadata": {},
   "outputs": [
    {
     "name": "stdout",
     "output_type": "stream",
     "text": [
      "Survived\n",
      "0    549\n",
      "1    342\n",
      "Name: count, dtype: int64\n"
     ]
    }
   ],
   "source": [
    "# Exploring Survived column  ..\n",
    "\n",
    "#df[\"Survived\"] = df[\"Survived\"].value_counts()\n",
    "print(df[\"Survived\"].value_counts())\n",
    "\n",
    "#print(\"Total Passengers: \", len(df[\"PassengerId\"]))\n",
    "#print(\"Passengers survived: \", len(df[df[\"Survived\"] == 1]))\n",
    "#print(\"Passengers not survived: \", len(df[df[\"Survived\"] == 0]))\n"
   ]
  },
  {
   "cell_type": "code",
   "execution_count": 6,
   "id": "71826c7a-018c-4545-9933-25c6644020df",
   "metadata": {},
   "outputs": [
    {
     "name": "stdout",
     "output_type": "stream",
     "text": [
      "Sex\n",
      "male      577\n",
      "female    314\n",
      "Name: count, dtype: int64\n",
      "males survived (%): 18.890814558058924\n",
      "females survived (%): 74.20382165605095\n",
      "Sex_Encoded\n",
      "0    18.890815\n",
      "1    74.203822\n",
      "Name: Survived, dtype: float64\n"
     ]
    }
   ],
   "source": [
    "# Exploring \"Sex\" column ..\n",
    "\n",
    "print(df[\"Sex\"].value_counts())\n",
    "#print(\"males survived (%):\", 100*np.mean(df[\"Survived\"][df[\"Sex\"] == \"male\"]))\n",
    "#print(\"females survived (%):\", 100*np.mean(df[\"Survived\"][df[\"Sex\"] == \"female\"]))\n",
    "\n",
    "# Converting categorical data into encoded data ..\n",
    "# Survived by gender ..\n",
    "df['Sex_Encoded'] = df['Sex'].map({'male': 0, 'female': 1})\n",
    "gender_survived = df.groupby(\"Sex_Encoded\")[\"Survived\"].mean() * 100\n",
    "print(gender_survived)\n",
    "#gender_AgeGroup = df.groupby(\"Sex_Encoded\")[\"Age_Group\"].value_counts()"
   ]
  },
  {
   "cell_type": "code",
   "execution_count": 15,
   "id": "6b8c4d0d-8ce2-4f6b-bf36-388478a1b86c",
   "metadata": {},
   "outputs": [
    {
     "name": "stdout",
     "output_type": "stream",
     "text": [
      "Pclass\n",
      "3    491\n",
      "1    216\n",
      "2    184\n",
      "Name: count, dtype: int64\n",
      "1st Class Passengers surviving percentage:  62.96296296296296\n",
      "2nd Class Passengers surviving percentage:  47.28260869565217\n",
      "3rd Class Passengers surviving percentage:  24.236252545824847\n"
     ]
    }
   ],
   "source": [
    "# Passengers Surviving based on passengerClass ..\n",
    "\n",
    "print(df[\"Pclass\"].value_counts())\n",
    "print(\"1st Class Passengers surviving percentage: \", 100*np.mean(df[\"Survived\"][df[\"Pclass\"] == 1])) \n",
    "print(\"2nd Class Passengers surviving percentage: \", 100*np.mean(df[\"Survived\"][df[\"Pclass\"] == 2]))\n",
    "print(\"3rd Class Passengers surviving percentage: \", 100*np.mean(df[\"Survived\"][df[\"Pclass\"] == 3]))"
   ]
  },
  {
   "cell_type": "code",
   "execution_count": 2,
   "id": "1ce6b474-56dc-4558-a40c-3e0b02aba25c",
   "metadata": {},
   "outputs": [],
   "source": [
    "# Add missing values to the \"Age\" column ..\n",
    "\n",
    "df[\"Age\"] = df[\"Age\"].fillna(np.mean(df[\"Age\"]))\n",
    "\n",
    "# Fomatting the \"Age\" column ..\n",
    "\n",
    "df[\"Age\"] = df[\"Age\"].astype(int)"
   ]
  },
  {
   "cell_type": "code",
   "execution_count": 3,
   "id": "1c78663b-2e28-4b98-ad34-a08054d10e6b",
   "metadata": {},
   "outputs": [],
   "source": [
    "# Making column for 'Age Group'\n",
    "\n",
    "df['Age_Group'] = np.where(df['Age'] < 18, 'Child',\n",
    "                           np.where((df['Age'] >= 18) & (df['Age'] < 60), 'Adult',\n",
    "                                    np.where(df['Age'] >= 60, 'Senior', 'Unknown')))\n",
    "#df[\"Age\"]\n",
    "#df[df['Age_Group'] == \"Senior\"]"
   ]
  },
  {
   "cell_type": "code",
   "execution_count": 41,
   "id": "44ff185f-8c22-4362-a150-59277ae97196",
   "metadata": {},
   "outputs": [
    {
     "name": "stdout",
     "output_type": "stream",
     "text": [
      "Age_Group\n",
      "Adult     36.436170\n",
      "Child     53.982301\n",
      "Senior    26.923077\n",
      "Name: Survived, dtype: float64\n"
     ]
    }
   ],
   "source": [
    "\n",
    "# Survival based onthe Age Groups ..\n",
    "\n",
    "survival_age_group = df.groupby('Age_Group')['Survived'].mean() * 100\n",
    "print(survival_age_group)\n",
    "#print(\"Surviving Passengers are children: \", 100*np.mean(df[\"Survived\"][df[\"Age\"] < 18])) \n",
    "#print(\"Surviving Passengers are adults: \", 100*np.mean(df[\"Survived\"][(df[\"Age\"] > 18) & (df[\"Age\"] < 60)]))\n",
    "#print(\"Surviving Passengers are seniors: \", 100*np.mean(df[\"Survived\"][df[\"Age\"] > 60]))"
   ]
  },
  {
   "cell_type": "code",
   "execution_count": 47,
   "id": "0cb0dc98-6fa2-41d0-8a5c-655ae05d79ad",
   "metadata": {},
   "outputs": [
    {
     "name": "stdout",
     "output_type": "stream",
     "text": [
      "Embarked_Port\n",
      "Cherbourg       55.357143\n",
      "Queenstown      38.961039\n",
      "Southhampton    33.900929\n",
      "Name: Survived, dtype: float64\n"
     ]
    }
   ],
   "source": [
    "# Add missing values to the \"Embarked\" column ..\n",
    "\n",
    "\n",
    "df[\"Embarked\"] = df[\"Embarked\"].fillna(df[\"Embarked\"].mode()[0])\n",
    "port = {\"S\": \"Southhampton\", \"C\" : \"Cherbourg\", \"Q\" : \"Queenstown\"}\n",
    "df[\"Embarked_Port\"] = df[\"Embarked\"].map(port)\n",
    "survival_by_port = df.groupby('Embarked_Port')['Survived'].mean() * 100\n",
    "print(survival_by_port)\n",
    "# DO the Passenger's survival is affected by the port for embarkment ?.\n",
    "\n",
    "#print(\"Passengers surviving % departing from the port Southampton  : \", 100*np.mean(df[\"Survived\"][df[\"Embarked\"] == \"S\"])) \n",
    "#print(\"Passengers surviving % departing from the port Cherbourg  : \", 100*np.mean(df[\"Survived\"][df[\"Embarked\"] == \"C\"]))\n",
    "#print(\"Passengers surviving % departing from the port Queenstown  : \", 100*np.mean(df[\"Survived\"][df[\"Embarked\"] == \"Q\"]))\n",
    "                                       "
   ]
  },
  {
   "cell_type": "code",
   "execution_count": 7,
   "id": "03329085-cd26-40d4-a888-ff2cf5115bf2",
   "metadata": {},
   "outputs": [
    {
     "name": "stdout",
     "output_type": "stream",
     "text": [
      "Embarked\n",
      "S    646\n",
      "C    168\n",
      "Q     77\n",
      "Name: count, dtype: int64\n"
     ]
    }
   ],
   "source": [
    "print(df[\"Embarked\"].value_counts())"
   ]
  },
  {
   "cell_type": "code",
   "execution_count": 47,
   "id": "2d3daf84-111a-4615-82ff-e94f8f2b3646",
   "metadata": {},
   "outputs": [
    {
     "data": {
      "text/plain": [
       "29.34567901234568"
      ]
     },
     "execution_count": 47,
     "metadata": {},
     "output_type": "execute_result"
    }
   ],
   "source": [
    "# mean Age of passengers ..\n",
    "df[\"Age\"].mean()"
   ]
  },
  {
   "cell_type": "code",
   "execution_count": 50,
   "id": "82c73aa0-e201-4dc2-a03e-ac5b8194007a",
   "metadata": {},
   "outputs": [],
   "source": [
    "# Age Groups\n",
    "children = df[df[\"Age\"] < 18][\"Age\"].value_counts()\n",
    "adults = df[(18 < df[\"Age\"]) & (df[\"Age\"] < 60)][\"Age\"].value_counts()\n",
    "senior = df[df[\"Age\"] >= 60][\"Age\"].value_counts()"
   ]
  },
  {
   "cell_type": "code",
   "execution_count": 53,
   "id": "12385ddf-de6b-4ef2-8a40-799ec84973d6",
   "metadata": {},
   "outputs": [
    {
     "data": {
      "text/plain": [
       "Age\n",
       "62    4\n",
       "60    4\n",
       "65    3\n",
       "70    3\n",
       "61    3\n",
       "71    2\n",
       "63    2\n",
       "64    2\n",
       "66    1\n",
       "80    1\n",
       "74    1\n",
       "Name: count, dtype: int64"
      ]
     },
     "execution_count": 53,
     "metadata": {},
     "output_type": "execute_result"
    }
   ],
   "source": [
    "#children\n",
    "#adults\n",
    "#senior"
   ]
  },
  {
   "cell_type": "code",
   "execution_count": 16,
   "id": "fec8babf-f94c-41eb-9ccb-7e485d7b6ddb",
   "metadata": {},
   "outputs": [
    {
     "name": "stdout",
     "output_type": "stream",
     "text": [
      "Sex_Encoded\n",
      "0    18.890815\n",
      "1    74.203822\n",
      "Name: Survived, dtype: float64\n"
     ]
    }
   ],
   "source": [
    "# sex distribution age wise ..\n",
    "\n",
    "#Encoding categorical data to numerical .\n",
    "\n",
    "df['Sex_Encoded'] = df['Sex'].map({'male': 0, 'female': 1})\n",
    "gender_AgeGroup = df.groupby(\"Sex_Encoded\")[\"Age_Group\"].value_counts()\n",
    "#print(gender_AgeGroup)\n",
    "\n",
    "# Survuval based on the Gender of the Age groups ..\n",
    "\n",
    "surv = df.groupby(\"Sex_Encoded\")[\"Survived\"].mean() * 100\n",
    "print(surv)"
   ]
  },
  {
   "cell_type": "code",
   "execution_count": 60,
   "id": "7884f4c3-0cb3-4c13-9599-ccda72aa3ff8",
   "metadata": {},
   "outputs": [
    {
     "data": {
      "text/plain": [
       "Sex\n",
       "male      58\n",
       "female    55\n",
       "Name: count, dtype: int64"
      ]
     },
     "execution_count": 60,
     "metadata": {},
     "output_type": "execute_result"
    }
   ],
   "source": [
    "children_gender\n"
   ]
  },
  {
   "cell_type": "code",
   "execution_count": 14,
   "id": "d8dddb40-d3cd-4f09-9eaa-80e345f96c2f",
   "metadata": {},
   "outputs": [
    {
     "data": {
      "text/plain": [
       "Sex\n",
       "male      577\n",
       "female    314\n",
       "Name: count, dtype: int64"
      ]
     },
     "execution_count": 14,
     "metadata": {},
     "output_type": "execute_result"
    }
   ],
   "source": [
    "# sex distribution of passengers ..\n",
    "df[\"Sex\"].value_counts()"
   ]
  },
  {
   "cell_type": "code",
   "execution_count": null,
   "id": "58104c8c-eb01-405d-ad7b-829d6a4deb37",
   "metadata": {},
   "outputs": [],
   "source": []
  }
 ],
 "metadata": {
  "kernelspec": {
   "display_name": "Python 3 (ipykernel)",
   "language": "python",
   "name": "python3"
  },
  "language_info": {
   "codemirror_mode": {
    "name": "ipython",
    "version": 3
   },
   "file_extension": ".py",
   "mimetype": "text/x-python",
   "name": "python",
   "nbconvert_exporter": "python",
   "pygments_lexer": "ipython3",
   "version": "3.11.7"
  }
 },
 "nbformat": 4,
 "nbformat_minor": 5
}
